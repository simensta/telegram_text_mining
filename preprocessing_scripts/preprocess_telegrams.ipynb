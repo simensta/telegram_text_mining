{
 "cells": [
  {
   "cell_type": "code",
   "execution_count": 1,
   "metadata": {},
   "outputs": [],
   "source": [
    "import csv\n",
    "import json\n",
    "import os\n",
    "import re\n",
    "import string\n",
    "import unittest"
   ]
  },
  {
   "cell_type": "markdown",
   "metadata": {},
   "source": [
    "# Preprocess Text\n",
    "\n",
    "To simplify the text anaylsis of the U.S. Civil Telegrams, the telegrams need to be preprocessed to remove volunteer generated metadata tags (e.g., `<deletion>`, `<insertion>`, and `<unclear>`), punctuation, as well as converting all characters to lower case.\n",
    "\n",
    "As these changes are applied, the changes are saved in a dictionary. The structure of this dictionary is:\n",
    "\n",
    "```\n",
    "telegram_changes = {\n",
    "    removed_tags: [], # array of tuples (e.g., (starting index, text of the selection))\n",
    "    removed_punctuation: [], # array of tuples (e.g., (starting index, ending index, text of the selection))\n",
    "    lower_cased_characters: [], # array of tuples (e.g., (starting index, text of the selection))\n",
    "    spaces_removed: []\n",
    "}\n",
    "```\n",
    "This script runs on one ledger at a time.\n",
    "\n",
    "\n",
    "## Inputs:\n",
    "- path to unprocessed text files\n",
    "- path to folder that will contain the outputs of this script\n",
    "\n",
    "## Outputs:\n",
    "This script generates the following file structure:\n",
    "\n",
    "- folder of each telegram\n",
    "    - txt file containing the unprocessed telegram\n",
    "    - txt file containing the processed telegram\n",
    "    - json file containing the dictionary of changes\n"
   ]
  },
  {
   "cell_type": "code",
   "execution_count": null,
   "metadata": {},
   "outputs": [],
   "source": []
  }
 ],
 "metadata": {
  "kernelspec": {
   "display_name": "Python 3",
   "language": "python",
   "name": "python3"
  },
  "language_info": {
   "codemirror_mode": {
    "name": "ipython",
    "version": 3
   },
   "file_extension": ".py",
   "mimetype": "text/x-python",
   "name": "python",
   "nbconvert_exporter": "python",
   "pygments_lexer": "ipython3",
   "version": "3.7.3"
  }
 },
 "nbformat": 4,
 "nbformat_minor": 2
}

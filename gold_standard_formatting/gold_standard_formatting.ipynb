{
 "cells": [
  {
   "cell_type": "markdown",
   "metadata": {},
   "source": [
    "## Formatting Gold Standard Data\n",
    "\n",
    "This script reformats the gold standard data into individual files for each telegram."
   ]
  },
  {
   "cell_type": "code",
   "execution_count": null,
   "metadata": {},
   "outputs": [],
   "source": [
    "import nltk\n",
    "import numpy as np\n",
    "import pandas as pd\n",
    "import csv\n",
    "import re"
   ]
  },
  {
   "cell_type": "code",
   "execution_count": null,
   "metadata": {},
   "outputs": [],
   "source": [
    "from nltk.corpus import stopwords\n",
    "from nltk.probability import FreqDist\n",
    "from nltk.corpus.reader.plaintext import CategorizedPlaintextCorpusReader\n",
    "\n",
    "english_stop_words = stopwords.words('english')\n",
    "doc_pattern = r'.*/preprocessed_.*.txt'\n",
    "category_pattern = r'.*?/(\\w+_telegrams)/'\n",
    "path_to_corpus = '/Volumes/data_work/dcw_text_mining/eckert_papers_corpus/'\n",
    "telegram_corpus = CategorizedPlaintextCorpusReader(\n",
    "    path_to_corpus,\n",
    "    doc_pattern,\n",
    "    cat_pattern=category_pattern\n",
    ")"
   ]
  },
  {
   "cell_type": "code",
   "execution_count": null,
   "metadata": {},
   "outputs": [],
   "source": [
    "clear_df = pd.read_csv('')\n",
    "clear_df"
   ]
  },
  {
   "cell_type": "code",
   "execution_count": null,
   "metadata": {},
   "outputs": [],
   "source": [
    "file_names = clear_df['text_file_name'].array"
   ]
  },
  {
   "cell_type": "code",
   "execution_count": null,
   "metadata": {},
   "outputs": [],
   "source": [
    "coded = ['mssEC_04', 'mssEC_16', 'mssEC_17', 'mssEC_18', 'mssEC_19', 'mssEC_20', 'mssEC_21', 'mssEC_22', 'mssEC_23', 'mssEC_24', 'mssEC_25']\n",
    "clear = ['mssEC_01', 'mssEC_02', 'mssEC_05', 'mssEC_06', 'mssEC_07', 'mssEC_08', 'mssEC_09', 'mssEC_10', 'mssEC_11', 'mssEC_12', 'mssEC_13', 'mssEC_14', 'mssEC_26', 'mssEC_27', 'mssEC_28', 'mssEC_29', 'mssEC_30', 'mssEC_31', 'mssEC_32', 'mssEC_33']\n",
    "coded_and_clear = ['mssEC_03', 'mssEC_15', 'mssEC_34', 'mssEC_35']"
   ]
  },
  {
   "cell_type": "code",
   "execution_count": null,
   "metadata": {},
   "outputs": [],
   "source": [
    "def create_temp_telegram_object():\n",
    "    #  type,text,controlled,lc_number,start,end\n",
    "        temp_telegram_object = {}\n",
    "        temp_telegram_object[\"type\"] = []\n",
    "        temp_telegram_object[\"text\"] = []\n",
    "        temp_telegram_object[\"start\"] = []\n",
    "        temp_telegram_object[\"end\"] = []\n",
    "        return temp_telegram_object"
   ]
  },
  {
   "cell_type": "code",
   "execution_count": null,
   "metadata": {},
   "outputs": [],
   "source": [
    "def final_export_type_label(export_column_header):\n",
    "    if export_column_header == \"Date Sent\":\n",
    "        return \"date_sent\"\n",
    "    elif export_column_header == \"Recipient\":\n",
    "        return \"recipient\"\n",
    "    elif export_column_header == \"Date Received\":\n",
    "        return \"date_received\"\n",
    "    elif export_column_header == \"Place Received\":\n",
    "        return \"location_received\"\n",
    "    elif export_column_header == \"Time Received\":\n",
    "        return \"time_received\"\n",
    "    elif export_column_header == \"Receiving Telegrapher\":\n",
    "        return \"receiving_telegrapher\"\n",
    "    elif export_column_header == \"Sender\":\n",
    "        return \"sender\"\n",
    "    elif export_column_header == \"Date Sent\":\n",
    "        return \"date_sent\"\n",
    "    elif export_column_header == \"Place Sent From\":\n",
    "        return \"location_sent_from\"\n",
    "    elif export_column_header == \"Time Sent\":\n",
    "        return \"time_sent\"\n",
    "    elif export_column_header == \"Sending Telegrapher\":\n",
    "        return \"sending_telegrapher\"\n",
    "    elif export_column_header == \"Full Text OCR\":\n",
    "        return \"transcribed_text\"    "
   ]
  },
  {
   "cell_type": "code",
   "execution_count": null,
   "metadata": {},
   "outputs": [],
   "source": [
    "def find_indices(text, ocr_text):\n",
    "    matches = re.findall(text, ocr_text)\n",
    "    if len(matches) > 1:\n",
    "        print(\"More than one match\")\n",
    "    for match in re.finditer(text, ocr_text):\n",
    "        return((match[0], match.start(), match.end()))"
   ]
  },
  {
   "cell_type": "code",
   "execution_count": null,
   "metadata": {},
   "outputs": [],
   "source": [
    "gold_standard_path = ''\n",
    "csv_headers = ['Recipient', 'Date Received', 'Place Received', 'Time Received', 'Receiving Telegrapher', 'Sender', 'Date Sent', 'Place Sent From', 'Time Sent', 'Sending Telegrapher']\n",
    "\n",
    "for file in file_names:\n",
    "    ledger_name = file[0:8]\n",
    "    \n",
    "    # evaluate the type of ledger to determine the file path\n",
    "    if ledger_name in coded:\n",
    "        file_id_prefix = 'telegrams/coded_telegrams/'\n",
    "    elif ledger_name in clear:\n",
    "        file_id_prefix = 'telegrams/clear_telegrams/'\n",
    "    elif ledger_name in coded_and_clear:\n",
    "        file_id_prefix = 'telegrams/clear_and_coded_telegrams/'\n",
    "    \n",
    "    file_id = file_id_prefix + ledger_name + '/' + file[0:-4] + '/' + file\n",
    "    \n",
    "    # retrieve telegram text\n",
    "    telegram_text = telegram_corpus.raw(file_id)\n",
    "    print(file_id)\n",
    "    print(telegram_text)\n",
    "    \n",
    "    # find panadas row\n",
    "    file_df = clear_df[clear_df['text_file_name'] == file]\n",
    "    temp_telegram = create_temp_telegram_object()\n",
    "    \n",
    "    for header in csv_headers:\n",
    "        text_value = file_df[header].values[0]\n",
    "        full_ocr_text = file_df['Full Text OCR'].values[0]\n",
    "        if text_value != \"FALSE\" and text_value != \"None\":\n",
    "            match_object = find_indices(text_value.rstrip(), full_ocr_text)\n",
    "            data_type = final_export_type_label(header)\n",
    "            if match_object is None:\n",
    "                pdb.set_trace()       \n",
    "            temp_telegram[\"type\"].append(data_type)\n",
    "            temp_telegram[\"text\"].append(match_object[0])\n",
    "            temp_telegram[\"start\"].append(match_object[1])\n",
    "            temp_telegram[\"end\"].append(match_object[2])\n",
    "            \n",
    "    gold_df = pd.DataFrame(data=temp_telegram)\n",
    "    print(gold_df)\n",
    "    formatted_gold_data_path = gold_standard_path + file[0:-3] + 'csv'\n",
    "    gold_df.to_csv(formatted_gold_data_path, index=False)\n",
    "    print(\"\")\n",
    "    print(\"-----------------------\")"
   ]
  }
 ],
 "metadata": {
  "kernelspec": {
   "display_name": "Python 3",
   "language": "python",
   "name": "python3"
  },
  "language_info": {
   "codemirror_mode": {
    "name": "ipython",
    "version": 3
   },
   "file_extension": ".py",
   "mimetype": "text/x-python",
   "name": "python",
   "nbconvert_exporter": "python",
   "pygments_lexer": "ipython3",
   "version": "3.7.3"
  }
 },
 "nbformat": 4,
 "nbformat_minor": 2
}
